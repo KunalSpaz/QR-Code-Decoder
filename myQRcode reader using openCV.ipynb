{
 "cells": [
  {
   "cell_type": "code",
   "execution_count": 1,
   "id": "01bea144",
   "metadata": {},
   "outputs": [
    {
     "name": "stdout",
     "output_type": "stream",
     "text": [
      "File exists and is readable.\n"
     ]
    },
    {
     "data": {
      "image/png": "[encoded data removed]",
      "text/plain": [
       "<Figure size 640x480 with 1 Axes>"
      ]
     },
     "metadata": {},
     "output_type": "display_data"
    },
    {
     "name": "stdout",
     "output_type": "stream",
     "text": [
      "QR Code data: ['Kunal Verma']\n"
     ]
    }
   ],
   "source": [
    "import os\n",
    "import cv2\n",
    "import matplotlib.pyplot as plt\n",
    "from pyzbar.pyzbar import decode  \n",
    "\n",
    "def check_file_access(file_path):\n",
    "    if not os.path.exists(file_path):\n",
    "        print(f\"Error: The file at {file_path} does not exist.\")\n",
    "        return False\n",
    "\n",
    "    if not os.access(file_path, os.R_OK):\n",
    "        print(f\"Error: The file at {file_path} is not readable (permission issue).\")\n",
    "        return False\n",
    "\n",
    "    print(\"File exists and is readable.\")\n",
    "    return True\n",
    "\n",
    "def load_image(file_path):\n",
    "    if not check_file_access(file_path):\n",
    "        return None\n",
    "\n",
    "    image = cv2.imread(file_path)\n",
    "    if image is None:\n",
    "        print(\"Error: Could not open or find the image.\")\n",
    "        return None\n",
    "\n",
    "    image_rgb = cv2.cvtColor(image, cv2.COLOR_BGR2RGB)\n",
    "    plt.imshow(image_rgb)\n",
    "    plt.axis('off')\n",
    "    plt.show()\n",
    "    return image\n",
    "\n",
    "def decode_qr_code(image):\n",
    "    decoded_objects = decode(image)\n",
    "    qr_data = []\n",
    "    for obj in decoded_objects:\n",
    "        if obj.type == 'QRCODE': \n",
    "            qr_data.append(obj.data.decode('utf-8'))\n",
    "    return qr_data\n",
    "\n",
    "def decode_barcode(image):\n",
    "    decoded_objects = decode(image)\n",
    "    barcode_data = []\n",
    "    for obj in decoded_objects:\n",
    "        if obj.type != 'QRCODE': \n",
    "            barcode_data.append(obj.data.decode('utf-8'))\n",
    "    return barcode_data\n",
    "\n",
    "def decode_image(image):\n",
    "    if image is None:\n",
    "        print(\"No image to decode.\")\n",
    "        return\n",
    "\n",
    "    qr_data = decode_qr_code(image)\n",
    "    barcode_data = decode_barcode(image)\n",
    "\n",
    "    if qr_data:\n",
    "        print(\"QR Code data:\", qr_data)\n",
    "    if barcode_data:\n",
    "        print(\"Barcode data:\", barcode_data)\n",
    "    if not qr_data and not barcode_data:\n",
    "        print(\"No QR code or barcode data found.\")\n",
    "\n",
    "file_path = r'C:\\Users\\kunal\\Downloads\\Untitled.png'  \n",
    "image = load_image(file_path)\n",
    "decode_image(image)"
   ]
  },
  {
   "cell_type": "code",
   "execution_count": null,
   "id": "94018d57",
   "metadata": {},
   "outputs": [],
   "source": []
  }
 ],
 "metadata": {
  "kernelspec": {
   "display_name": "Python 3 (ipykernel)",
   "language": "python",
   "name": "python3"
  },
  "language_info": {
   "codemirror_mode": {
    "name": "ipython",
    "version": 3
   },
   "file_extension": ".py",
   "mimetype": "text/x-python",
   "name": "python",
   "nbconvert_exporter": "python",
   "pygments_lexer": "ipython3",
   "version": "3.11.4"
  }
 },
 "nbformat": 4,
 "nbformat_minor": 5
}
